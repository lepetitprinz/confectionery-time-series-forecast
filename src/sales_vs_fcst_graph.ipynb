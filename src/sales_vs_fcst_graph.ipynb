{
 "cells": [
  {
   "cell_type": "markdown",
   "id": "96af79db",
   "metadata": {},
   "source": [
    "### Sales vs forecast graph"
   ]
  },
  {
   "cell_type": "code",
   "execution_count": 1,
   "id": "ca7ac3fd",
   "metadata": {},
   "outputs": [],
   "source": [
    "# 마가렛뜨 (P103021)"
   ]
  },
  {
   "cell_type": "code",
   "execution_count": 96,
   "id": "07c2fa07",
   "metadata": {},
   "outputs": [],
   "source": [
    "import os\n",
    "import pandas as pd\n",
    "\n",
    "import matplotlib.pyplot as plt"
   ]
  },
  {
   "cell_type": "code",
   "execution_count": 107,
   "id": "63ad447b",
   "metadata": {},
   "outputs": [],
   "source": [
    "data_path = os.path.join('..', 'data')"
   ]
  },
  {
   "cell_type": "code",
   "execution_count": 108,
   "id": "c9e78a7e",
   "metadata": {},
   "outputs": [],
   "source": [
    "sales = pd.read_csv(os.path.join(data_path, 'sales.csv'))\n",
    "fcst = pd.read_csv(os.path.join(data_path, 'fcst.csv'))"
   ]
  },
  {
   "cell_type": "code",
   "execution_count": 109,
   "id": "8014fe13",
   "metadata": {},
   "outputs": [],
   "source": [
    "sales.columns = [col.lower() for col in sales.columns]\n",
    "fcst.columns = [col.lower() for col in fcst.columns]"
   ]
  },
  {
   "cell_type": "markdown",
   "id": "5180126c",
   "metadata": {},
   "source": [
    "### Preprocessing"
   ]
  },
  {
   "cell_type": "code",
   "execution_count": 110,
   "id": "a63604a1",
   "metadata": {},
   "outputs": [],
   "source": [
    "sales = sales.rename(columns={'yymmdd': 'yy', 'sales': 'qty'})\n",
    "sales = sales.rename(columns={'start_week_day': 'yymmdd'})\n",
    "fcst = fcst.rename(columns={'fcst': 'qty'})\n",
    "sales = sales[['cust_grp_cd', 'cust_grp_nm', 'item_attr03_nm', 'yy', 'yymmdd', 'week', 'qty']]\n",
    "fcst = fcst[['cust_grp_cd', 'cust_grp_nm', 'item_attr03_nm', 'yymmdd', 'week', 'qty']]\n",
    "\n",
    "# change data type\n",
    "sales['cust_grp_cd'] = sales['cust_grp_cd'].astype(str)\n",
    "sales['yy'] = sales['yy'].astype(str)\n",
    "\n",
    "fcst['cust_grp_cd'] = fcst['cust_grp_cd'].astype(str)\n",
    "fcst['yymmdd'] = fcst['yymmdd'].astype(str)\n"
   ]
  },
  {
   "cell_type": "code",
   "execution_count": 111,
   "id": "8019fb6b",
   "metadata": {},
   "outputs": [],
   "source": [
    "fcst['yy'] = fcst['yymmdd'].str.slice(0,4)\n",
    "fcst = fcst[['cust_grp_cd', 'cust_grp_nm', 'item_attr03_nm', 'yy', 'yymmdd', 'week','qty']]"
   ]
  },
  {
   "cell_type": "code",
   "execution_count": 112,
   "id": "b95f44b2",
   "metadata": {},
   "outputs": [],
   "source": [
    "sales['yymmdd'] = pd.to_datetime(sales['yymmdd'], format='%Y%m%d')\n",
    "fcst['yymmdd'] = pd.to_datetime(fcst['yymmdd'], format='%Y%m%d')"
   ]
  },
  {
   "cell_type": "code",
   "execution_count": 113,
   "id": "6e91ca78",
   "metadata": {
    "scrolled": true
   },
   "outputs": [
    {
     "data": {
      "text/html": [
       "<div>\n",
       "<style scoped>\n",
       "    .dataframe tbody tr th:only-of-type {\n",
       "        vertical-align: middle;\n",
       "    }\n",
       "\n",
       "    .dataframe tbody tr th {\n",
       "        vertical-align: top;\n",
       "    }\n",
       "\n",
       "    .dataframe thead th {\n",
       "        text-align: right;\n",
       "    }\n",
       "</style>\n",
       "<table border=\"1\" class=\"dataframe\">\n",
       "  <thead>\n",
       "    <tr style=\"text-align: right;\">\n",
       "      <th></th>\n",
       "      <th>cust_grp_cd</th>\n",
       "      <th>cust_grp_nm</th>\n",
       "      <th>item_attr03_nm</th>\n",
       "      <th>yy</th>\n",
       "      <th>yymmdd</th>\n",
       "      <th>week</th>\n",
       "      <th>qty</th>\n",
       "    </tr>\n",
       "  </thead>\n",
       "  <tbody>\n",
       "    <tr>\n",
       "      <th>0</th>\n",
       "      <td>1018</td>\n",
       "      <td>강동영업소</td>\n",
       "      <td>자일리톨</td>\n",
       "      <td>2022</td>\n",
       "      <td>2022-03-28</td>\n",
       "      <td>W13</td>\n",
       "      <td>95.024</td>\n",
       "    </tr>\n",
       "    <tr>\n",
       "      <th>1</th>\n",
       "      <td>1018</td>\n",
       "      <td>강동영업소</td>\n",
       "      <td>자일리톨</td>\n",
       "      <td>2022</td>\n",
       "      <td>2022-04-04</td>\n",
       "      <td>W14</td>\n",
       "      <td>89.402</td>\n",
       "    </tr>\n",
       "  </tbody>\n",
       "</table>\n",
       "</div>"
      ],
      "text/plain": [
       "  cust_grp_cd cust_grp_nm item_attr03_nm    yy     yymmdd week     qty\n",
       "0        1018       강동영업소           자일리톨  2022 2022-03-28  W13  95.024\n",
       "1        1018       강동영업소           자일리톨  2022 2022-04-04  W14  89.402"
      ]
     },
     "execution_count": 113,
     "metadata": {},
     "output_type": "execute_result"
    }
   ],
   "source": [
    "fcst.head(2)"
   ]
  },
  {
   "cell_type": "code",
   "execution_count": 114,
   "id": "1b88f610",
   "metadata": {},
   "outputs": [],
   "source": [
    "sales['label'] = 'sales'\n",
    "fcst['label'] = 'fcst'"
   ]
  },
  {
   "cell_type": "code",
   "execution_count": 115,
   "id": "3bcfb294",
   "metadata": {},
   "outputs": [],
   "source": [
    "total = pd.concat([sales, fcst])"
   ]
  },
  {
   "cell_type": "code",
   "execution_count": 116,
   "id": "9602633b",
   "metadata": {},
   "outputs": [],
   "source": [
    "total.to_csv(os.path.join(data_path, 'total_all.csv'), index=False)"
   ]
  },
  {
   "cell_type": "code",
   "execution_count": null,
   "id": "e5f35777",
   "metadata": {},
   "outputs": [],
   "source": []
  }
 ],
 "metadata": {
  "kernelspec": {
   "display_name": "Python 3 (ipykernel)",
   "language": "python",
   "name": "python3"
  },
  "language_info": {
   "codemirror_mode": {
    "name": "ipython",
    "version": 3
   },
   "file_extension": ".py",
   "mimetype": "text/x-python",
   "name": "python",
   "nbconvert_exporter": "python",
   "pygments_lexer": "ipython3",
   "version": "3.8.10"
  }
 },
 "nbformat": 4,
 "nbformat_minor": 5
}
