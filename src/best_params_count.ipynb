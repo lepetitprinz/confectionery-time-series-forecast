{
 "cells": [
  {
   "cell_type": "code",
   "execution_count": 2,
   "id": "fc887bf8",
   "metadata": {},
   "outputs": [],
   "source": [
    "import os\n",
    "import json\n",
    "import pandas as pd\n",
    "import numpy as np\n",
    "from collections import defaultdict"
   ]
  },
  {
   "cell_type": "code",
   "execution_count": 4,
   "id": "09fd4e71",
   "metadata": {},
   "outputs": [],
   "source": [
    "file_path = os.path.join('..', 'parameter', 'data_lvl_ml_model_param_SELL_IN_C1-P3.json')\n",
    "with open(file_path, 'r') as handle:\n",
    "    params = json.load(handle)"
   ]
  },
  {
   "cell_type": "code",
   "execution_count": 6,
   "id": "ab48bfd7",
   "metadata": {},
   "outputs": [],
   "source": [
    "best_cnt = defaultdict(lambda: defaultdict(int))\n",
    "for values in params.values():\n",
    "    for model, params in values.items():\n",
    "        best_cnt[model][str(params)] += 1"
   ]
  },
  {
   "cell_type": "code",
   "execution_count": 21,
   "id": "16cf4ba2",
   "metadata": {},
   "outputs": [],
   "source": [
    "model_best = {}\n",
    "for model, counts in best_cnt.items():\n",
    "    counts_sorted = sorted(counts.items(), key=lambda x:x[1], reverse=True)\n",
    "    model_best[model] = eval(counts_sorted[0][0])"
   ]
  },
  {
   "cell_type": "code",
   "execution_count": 24,
   "id": "04b9a935",
   "metadata": {},
   "outputs": [
    {
     "data": {
      "text/plain": [
       "dict"
      ]
     },
     "execution_count": 24,
     "metadata": {},
     "output_type": "execute_result"
    }
   ],
   "source": [
    "type(model_best)"
   ]
  },
  {
   "cell_type": "code",
   "execution_count": null,
   "id": "ca495f53",
   "metadata": {},
   "outputs": [],
   "source": []
  }
 ],
 "metadata": {
  "kernelspec": {
   "display_name": "Python 3 (ipykernel)",
   "language": "python",
   "name": "python3"
  },
  "language_info": {
   "codemirror_mode": {
    "name": "ipython",
    "version": 3
   },
   "file_extension": ".py",
   "mimetype": "text/x-python",
   "name": "python",
   "nbconvert_exporter": "python",
   "pygments_lexer": "ipython3",
   "version": "3.8.10"
  }
 },
 "nbformat": 4,
 "nbformat_minor": 5
}
