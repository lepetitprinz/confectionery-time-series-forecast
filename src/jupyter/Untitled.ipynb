{
 "cells": [
  {
   "cell_type": "code",
   "execution_count": 104,
   "id": "cd7b341b",
   "metadata": {},
   "outputs": [],
   "source": [
    "import os\n",
    "import pandas as pd"
   ]
  },
  {
   "cell_type": "code",
   "execution_count": 105,
   "id": "b000873a",
   "metadata": {},
   "outputs": [],
   "source": [
    "data_path = os.path.join('..', '..', 'data')\n",
    "sales_name = 'P103055_sales_w01_w14.csv'\n",
    "fcst_name = 'P103055_fcst_w14_w15.csv'"
   ]
  },
  {
   "cell_type": "code",
   "execution_count": 106,
   "id": "1fc0d292",
   "metadata": {},
   "outputs": [],
   "source": [
    "sales = pd.read_csv(os.path.join(data_path, sales_name))\n",
    "fcst = pd.read_csv(os.path.join(data_path, fcst_name))\n",
    "\n",
    "sales.columns = [col.lower() for col in sales.columns]\n",
    "fcst.columns = [col.lower() for col in fcst.columns]"
   ]
  },
  {
   "cell_type": "code",
   "execution_count": 107,
   "id": "e9029178",
   "metadata": {},
   "outputs": [
    {
     "data": {
      "text/html": [
       "<div>\n",
       "<style scoped>\n",
       "    .dataframe tbody tr th:only-of-type {\n",
       "        vertical-align: middle;\n",
       "    }\n",
       "\n",
       "    .dataframe tbody tr th {\n",
       "        vertical-align: top;\n",
       "    }\n",
       "\n",
       "    .dataframe thead th {\n",
       "        text-align: right;\n",
       "    }\n",
       "</style>\n",
       "<table border=\"1\" class=\"dataframe\">\n",
       "  <thead>\n",
       "    <tr style=\"text-align: right;\">\n",
       "      <th></th>\n",
       "      <th>cust_grp_cd</th>\n",
       "      <th>cust_grp_nm</th>\n",
       "      <th>item_attr03_cd</th>\n",
       "      <th>yy</th>\n",
       "      <th>week</th>\n",
       "      <th>qty</th>\n",
       "    </tr>\n",
       "  </thead>\n",
       "  <tbody>\n",
       "    <tr>\n",
       "      <th>0</th>\n",
       "      <td>1033</td>\n",
       "      <td>중앙영업소</td>\n",
       "      <td>P103055</td>\n",
       "      <td>2021</td>\n",
       "      <td>W08</td>\n",
       "      <td>215.834</td>\n",
       "    </tr>\n",
       "  </tbody>\n",
       "</table>\n",
       "</div>"
      ],
      "text/plain": [
       "   cust_grp_cd cust_grp_nm item_attr03_cd    yy week      qty\n",
       "0         1033       중앙영업소        P103055  2021  W08  215.834"
      ]
     },
     "execution_count": 107,
     "metadata": {},
     "output_type": "execute_result"
    }
   ],
   "source": [
    "sales.head(1)"
   ]
  },
  {
   "cell_type": "code",
   "execution_count": 108,
   "id": "96bb6d3b",
   "metadata": {},
   "outputs": [
    {
     "data": {
      "text/html": [
       "<div>\n",
       "<style scoped>\n",
       "    .dataframe tbody tr th:only-of-type {\n",
       "        vertical-align: middle;\n",
       "    }\n",
       "\n",
       "    .dataframe tbody tr th {\n",
       "        vertical-align: top;\n",
       "    }\n",
       "\n",
       "    .dataframe thead th {\n",
       "        text-align: right;\n",
       "    }\n",
       "</style>\n",
       "<table border=\"1\" class=\"dataframe\">\n",
       "  <thead>\n",
       "    <tr style=\"text-align: right;\">\n",
       "      <th></th>\n",
       "      <th>cust_grp_cd</th>\n",
       "      <th>cust_grp_nm</th>\n",
       "      <th>item_attr03_cd</th>\n",
       "      <th>item_attr03_nm</th>\n",
       "      <th>yymmdd</th>\n",
       "      <th>week</th>\n",
       "      <th>fcst</th>\n",
       "    </tr>\n",
       "  </thead>\n",
       "  <tbody>\n",
       "    <tr>\n",
       "      <th>0</th>\n",
       "      <td>1128</td>\n",
       "      <td>진주영업소</td>\n",
       "      <td>P103055</td>\n",
       "      <td>카스타드</td>\n",
       "      <td>20220404</td>\n",
       "      <td>W14</td>\n",
       "      <td>29.391</td>\n",
       "    </tr>\n",
       "  </tbody>\n",
       "</table>\n",
       "</div>"
      ],
      "text/plain": [
       "   cust_grp_cd cust_grp_nm item_attr03_cd item_attr03_nm    yymmdd week  \\\n",
       "0         1128       진주영업소        P103055           카스타드  20220404  W14   \n",
       "\n",
       "     fcst  \n",
       "0  29.391  "
      ]
     },
     "execution_count": 108,
     "metadata": {},
     "output_type": "execute_result"
    }
   ],
   "source": [
    "fcst.head(1)"
   ]
  },
  {
   "cell_type": "code",
   "execution_count": 109,
   "id": "13ac7f2b",
   "metadata": {},
   "outputs": [],
   "source": [
    "#\n",
    "sales['item_attr03_nm'] = '카스타드'\n",
    "sales['label'] = 'sales'\n",
    "sales['yymmdd'] = sales['cust_grp_cd'].astype(str)\n",
    "sales['yymmdd'] = sales['yy'].astype(str)\n",
    "\n",
    "fcst['label'] = 'fcst'\n",
    "fcst['cust_grp_cd'] = fcst['cust_grp_cd'].astype(str)\n",
    "fcst['yymmdd'] = fcst['yymmdd'].astype(str)\n",
    "fcst['yy'] = fcst['yymmdd'].str.slice(0,4)"
   ]
  },
  {
   "cell_type": "code",
   "execution_count": 110,
   "id": "3747f6fb",
   "metadata": {},
   "outputs": [],
   "source": [
    "sales = sales.drop(columns=['item_attr03_cd', 'yymmdd'])\n",
    "fcst = fcst.drop(columns=['item_attr03_cd', 'yymmdd'])\n",
    "fcst = fcst.rename(columns={'fcst': 'qty'})"
   ]
  },
  {
   "cell_type": "code",
   "execution_count": 111,
   "id": "5060c050",
   "metadata": {},
   "outputs": [],
   "source": [
    "col = ['item_attr03_nm', 'cust_grp_nm',  'yy', 'week', 'label', 'qty']\n",
    "sales = sales[col]\n",
    "fcst = fcst[col]"
   ]
  },
  {
   "cell_type": "code",
   "execution_count": 112,
   "id": "b2d657c4",
   "metadata": {},
   "outputs": [],
   "source": [
    "merged = pd.concat([sales, fcst])"
   ]
  },
  {
   "cell_type": "code",
   "execution_count": 113,
   "id": "495cb608",
   "metadata": {},
   "outputs": [],
   "source": [
    "merged.to_csv(os.path.join(data_path, 'P103055_merged_w01_w15.csv'), index=False)"
   ]
  },
  {
   "cell_type": "code",
   "execution_count": null,
   "id": "2ef50308",
   "metadata": {},
   "outputs": [],
   "source": []
  },
  {
   "cell_type": "code",
   "execution_count": null,
   "id": "71748749",
   "metadata": {},
   "outputs": [],
   "source": []
  }
 ],
 "metadata": {
  "kernelspec": {
   "display_name": "Python 3 (ipykernel)",
   "language": "python",
   "name": "python3"
  },
  "language_info": {
   "codemirror_mode": {
    "name": "ipython",
    "version": 3
   },
   "file_extension": ".py",
   "mimetype": "text/x-python",
   "name": "python",
   "nbconvert_exporter": "python",
   "pygments_lexer": "ipython3",
   "version": "3.8.10"
  }
 },
 "nbformat": 4,
 "nbformat_minor": 5
}
