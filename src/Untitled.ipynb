{
 "cells": [
  {
   "cell_type": "code",
   "execution_count": 49,
   "metadata": {},
   "outputs": [],
   "source": [
    "import os\n",
    "import numpy as np\n",
    "import pandas as pd\n",
    "import matplotlib.pyplot as plt\n",
    "\n",
    "%matplotlib inline"
   ]
  },
  {
   "cell_type": "code",
   "execution_count": 125,
   "metadata": {},
   "outputs": [],
   "source": [
    "base_path = os.path.join('..', 'data')\n",
    "\n",
    "# sales dataset\n",
    "sales_in = pd.read_csv(os.path.join(base_path, 'sales_sell_in.csv'), delimiter='\\t')\n",
    "sales_out = pd.read_csv(os.path.join(base_path, 'sales_sell_out.csv'), delimiter='\\t')\n",
    "\n",
    "# operation days dataset\n",
    "oper_in = pd.read_csv(os.path.join(base_path, 'oper_sell_in.csv'), delimiter='\\t')\n",
    "# days_out = pd.read_csv(os.path.join(base_path, 'sales_sell_out.csv'))"
   ]
  },
  {
   "cell_type": "code",
   "execution_count": 126,
   "metadata": {},
   "outputs": [],
   "source": [
    "sales_in.columns = [col.lower() for col in sales_in.columns]\n",
    "sales_out.columns = [col.lower() for col in sales_out.columns]"
   ]
  },
  {
   "cell_type": "code",
   "execution_count": 127,
   "metadata": {
    "scrolled": true
   },
   "outputs": [
    {
     "data": {
      "text/html": [
       "<div>\n",
       "<style scoped>\n",
       "    .dataframe tbody tr th:only-of-type {\n",
       "        vertical-align: middle;\n",
       "    }\n",
       "\n",
       "    .dataframe tbody tr th {\n",
       "        vertical-align: top;\n",
       "    }\n",
       "\n",
       "    .dataframe thead th {\n",
       "        text-align: right;\n",
       "    }\n",
       "</style>\n",
       "<table border=\"1\" class=\"dataframe\">\n",
       "  <thead>\n",
       "    <tr style=\"text-align: right;\">\n",
       "      <th></th>\n",
       "      <th>chnl_cd</th>\n",
       "      <th>cust_cd</th>\n",
       "      <th>pd_cd</th>\n",
       "      <th>pd_nm</th>\n",
       "      <th>dt</th>\n",
       "      <th>sales</th>\n",
       "      <th>amt</th>\n",
       "      <th>dc</th>\n",
       "      <th>unit_price</th>\n",
       "      <th>store_price</th>\n",
       "    </tr>\n",
       "  </thead>\n",
       "  <tbody>\n",
       "    <tr>\n",
       "      <th>0</th>\n",
       "      <td>SELL-IN</td>\n",
       "      <td>A</td>\n",
       "      <td>100</td>\n",
       "      <td>가</td>\n",
       "      <td>20190101</td>\n",
       "      <td>1,216,620</td>\n",
       "      <td>1,620</td>\n",
       "      <td>34.1</td>\n",
       "      <td>751</td>\n",
       "      <td>1,140</td>\n",
       "    </tr>\n",
       "    <tr>\n",
       "      <th>1</th>\n",
       "      <td>SELL-IN</td>\n",
       "      <td>A</td>\n",
       "      <td>100</td>\n",
       "      <td>가</td>\n",
       "      <td>20190102</td>\n",
       "      <td>NaN</td>\n",
       "      <td>0</td>\n",
       "      <td>NaN</td>\n",
       "      <td>NaN</td>\n",
       "      <td>1,140</td>\n",
       "    </tr>\n",
       "    <tr>\n",
       "      <th>2</th>\n",
       "      <td>SELL-IN</td>\n",
       "      <td>A</td>\n",
       "      <td>100</td>\n",
       "      <td>가</td>\n",
       "      <td>20190103</td>\n",
       "      <td>NaN</td>\n",
       "      <td>0</td>\n",
       "      <td>NaN</td>\n",
       "      <td>NaN</td>\n",
       "      <td>1,140</td>\n",
       "    </tr>\n",
       "    <tr>\n",
       "      <th>3</th>\n",
       "      <td>SELL-IN</td>\n",
       "      <td>A</td>\n",
       "      <td>100</td>\n",
       "      <td>가</td>\n",
       "      <td>20190104</td>\n",
       "      <td>NaN</td>\n",
       "      <td>0</td>\n",
       "      <td>NaN</td>\n",
       "      <td>NaN</td>\n",
       "      <td>1,140</td>\n",
       "    </tr>\n",
       "    <tr>\n",
       "      <th>4</th>\n",
       "      <td>SELL-IN</td>\n",
       "      <td>A</td>\n",
       "      <td>100</td>\n",
       "      <td>가</td>\n",
       "      <td>20190105</td>\n",
       "      <td>NaN</td>\n",
       "      <td>0</td>\n",
       "      <td>NaN</td>\n",
       "      <td>NaN</td>\n",
       "      <td>1,140</td>\n",
       "    </tr>\n",
       "  </tbody>\n",
       "</table>\n",
       "</div>"
      ],
      "text/plain": [
       "   chnl_cd cust_cd  pd_cd pd_nm        dt       sales     amt    dc  \\\n",
       "0  SELL-IN       A    100     가  20190101  1,216,620   1,620   34.1   \n",
       "1  SELL-IN       A    100     가  20190102         NaN      0    NaN   \n",
       "2  SELL-IN       A    100     가  20190103         NaN      0    NaN   \n",
       "3  SELL-IN       A    100     가  20190104         NaN      0    NaN   \n",
       "4  SELL-IN       A    100     가  20190105         NaN      0    NaN   \n",
       "\n",
       "  unit_price store_price  \n",
       "0       751       1,140   \n",
       "1        NaN      1,140   \n",
       "2        NaN      1,140   \n",
       "3        NaN      1,140   \n",
       "4        NaN      1,140   "
      ]
     },
     "execution_count": 127,
     "metadata": {},
     "output_type": "execute_result"
    }
   ],
   "source": [
    "sales_in.head()"
   ]
  },
  {
   "cell_type": "code",
   "execution_count": 128,
   "metadata": {
    "scrolled": true
   },
   "outputs": [
    {
     "data": {
      "text/html": [
       "<div>\n",
       "<style scoped>\n",
       "    .dataframe tbody tr th:only-of-type {\n",
       "        vertical-align: middle;\n",
       "    }\n",
       "\n",
       "    .dataframe tbody tr th {\n",
       "        vertical-align: top;\n",
       "    }\n",
       "\n",
       "    .dataframe thead th {\n",
       "        text-align: right;\n",
       "    }\n",
       "</style>\n",
       "<table border=\"1\" class=\"dataframe\">\n",
       "  <thead>\n",
       "    <tr style=\"text-align: right;\">\n",
       "      <th></th>\n",
       "      <th>chnl_cd</th>\n",
       "      <th>cust_cd</th>\n",
       "      <th>pd_nm</th>\n",
       "      <th>sales</th>\n",
       "      <th>amt</th>\n",
       "      <th>unit_price</th>\n",
       "      <th>store_price</th>\n",
       "    </tr>\n",
       "  </thead>\n",
       "  <tbody>\n",
       "    <tr>\n",
       "      <th>count</th>\n",
       "      <td>4386</td>\n",
       "      <td>4386</td>\n",
       "      <td>4386</td>\n",
       "      <td>3666</td>\n",
       "      <td>4386</td>\n",
       "      <td>3543</td>\n",
       "      <td>4386</td>\n",
       "    </tr>\n",
       "    <tr>\n",
       "      <th>unique</th>\n",
       "      <td>1</td>\n",
       "      <td>3</td>\n",
       "      <td>5</td>\n",
       "      <td>2863</td>\n",
       "      <td>1224</td>\n",
       "      <td>666</td>\n",
       "      <td>4</td>\n",
       "    </tr>\n",
       "    <tr>\n",
       "      <th>top</th>\n",
       "      <td>SELL-IN</td>\n",
       "      <td>B</td>\n",
       "      <td>나</td>\n",
       "      <td>0</td>\n",
       "      <td>0</td>\n",
       "      <td>626</td>\n",
       "      <td>1,023</td>\n",
       "    </tr>\n",
       "    <tr>\n",
       "      <th>freq</th>\n",
       "      <td>4386</td>\n",
       "      <td>1462</td>\n",
       "      <td>1462</td>\n",
       "      <td>120</td>\n",
       "      <td>843</td>\n",
       "      <td>520</td>\n",
       "      <td>1462</td>\n",
       "    </tr>\n",
       "  </tbody>\n",
       "</table>\n",
       "</div>"
      ],
      "text/plain": [
       "        chnl_cd cust_cd pd_nm sales   amt unit_price store_price\n",
       "count      4386    4386  4386  3666  4386       3543        4386\n",
       "unique        1       3     5  2863  1224        666           4\n",
       "top     SELL-IN       B     나    0     0        626       1,023 \n",
       "freq       4386    1462  1462   120   843        520        1462"
      ]
     },
     "execution_count": 128,
     "metadata": {},
     "output_type": "execute_result"
    }
   ],
   "source": [
    "sales_in.describe(include=[np.object])"
   ]
  },
  {
   "cell_type": "code",
   "execution_count": 129,
   "metadata": {
    "scrolled": false
   },
   "outputs": [
    {
     "name": "stdout",
     "output_type": "stream",
     "text": [
      "cust_cd: ['A', 'B', 'C']\n",
      "pd_cd: [100, 101, 200, 201, 202]\n",
      "pd_nm: ['가', '나', '다', '라', '마']\n"
     ]
    }
   ],
   "source": [
    "print(f\"cust_cd: {sorted(sales_in['cust_cd'].unique())}\")\n",
    "print(f\"pd_cd: {sorted(sales_in['pd_cd'].unique())}\")\n",
    "print(f\"pd_nm: {sorted(sales_in['pd_nm'].unique())}\")"
   ]
  },
  {
   "cell_type": "code",
   "execution_count": 130,
   "metadata": {
    "scrolled": false
   },
   "outputs": [
    {
     "data": {
      "text/plain": [
       "chnl_cd          0\n",
       "cust_cd          0\n",
       "pd_cd            0\n",
       "pd_nm            0\n",
       "dt               0\n",
       "sales          720\n",
       "amt              0\n",
       "dc             843\n",
       "unit_price     843\n",
       "store_price      0\n",
       "dtype: int64"
      ]
     },
     "execution_count": 130,
     "metadata": {},
     "output_type": "execute_result"
    }
   ],
   "source": [
    "sales_in.isnull().sum()"
   ]
  },
  {
   "cell_type": "code",
   "execution_count": 136,
   "metadata": {},
   "outputs": [
    {
     "data": {
      "text/plain": [
       "['sales', 'dc', 'unit_price']"
      ]
     },
     "execution_count": 136,
     "metadata": {},
     "output_type": "execute_result"
    }
   ],
   "source": [
    "[col for col, is_null in zip(sales_in.columns, sales_in.isnull().sum()) if is_null > 0]"
   ]
  },
  {
   "cell_type": "code",
   "execution_count": 84,
   "metadata": {
    "scrolled": true
   },
   "outputs": [
    {
     "data": {
      "text/html": [
       "<div>\n",
       "<style scoped>\n",
       "    .dataframe tbody tr th:only-of-type {\n",
       "        vertical-align: middle;\n",
       "    }\n",
       "\n",
       "    .dataframe tbody tr th {\n",
       "        vertical-align: top;\n",
       "    }\n",
       "\n",
       "    .dataframe thead th {\n",
       "        text-align: right;\n",
       "    }\n",
       "</style>\n",
       "<table border=\"1\" class=\"dataframe\">\n",
       "  <thead>\n",
       "    <tr style=\"text-align: right;\">\n",
       "      <th></th>\n",
       "      <th>chnl_cd</th>\n",
       "      <th>cust_cd</th>\n",
       "      <th>pd_cd</th>\n",
       "      <th>pd_nm</th>\n",
       "      <th>dt</th>\n",
       "      <th>sales</th>\n",
       "      <th>amt</th>\n",
       "      <th>dc</th>\n",
       "    </tr>\n",
       "  </thead>\n",
       "  <tbody>\n",
       "    <tr>\n",
       "      <th>0</th>\n",
       "      <td>SELL-OUT</td>\n",
       "      <td>A</td>\n",
       "      <td>300</td>\n",
       "      <td>바</td>\n",
       "      <td>20170101</td>\n",
       "      <td>3,501,930</td>\n",
       "      <td>1,760</td>\n",
       "      <td>0.0</td>\n",
       "    </tr>\n",
       "    <tr>\n",
       "      <th>1</th>\n",
       "      <td>SELL-OUT</td>\n",
       "      <td>A</td>\n",
       "      <td>300</td>\n",
       "      <td>바</td>\n",
       "      <td>20170102</td>\n",
       "      <td>2,719,940</td>\n",
       "      <td>1,365</td>\n",
       "      <td>0.0</td>\n",
       "    </tr>\n",
       "    <tr>\n",
       "      <th>2</th>\n",
       "      <td>SELL-OUT</td>\n",
       "      <td>A</td>\n",
       "      <td>300</td>\n",
       "      <td>바</td>\n",
       "      <td>20170103</td>\n",
       "      <td>2,885,360</td>\n",
       "      <td>1,449</td>\n",
       "      <td>0.0</td>\n",
       "    </tr>\n",
       "    <tr>\n",
       "      <th>3</th>\n",
       "      <td>SELL-OUT</td>\n",
       "      <td>A</td>\n",
       "      <td>300</td>\n",
       "      <td>바</td>\n",
       "      <td>20170104</td>\n",
       "      <td>2,962,900</td>\n",
       "      <td>1,489</td>\n",
       "      <td>0.0</td>\n",
       "    </tr>\n",
       "    <tr>\n",
       "      <th>4</th>\n",
       "      <td>SELL-OUT</td>\n",
       "      <td>A</td>\n",
       "      <td>300</td>\n",
       "      <td>바</td>\n",
       "      <td>20170105</td>\n",
       "      <td>2,957,150</td>\n",
       "      <td>1,486</td>\n",
       "      <td>0.0</td>\n",
       "    </tr>\n",
       "  </tbody>\n",
       "</table>\n",
       "</div>"
      ],
      "text/plain": [
       "    chnl_cd cust_cd  pd_cd pd_nm        dt       sales     amt   dc\n",
       "0  SELL-OUT       A    300     바  20170101  3,501,930   1,760   0.0\n",
       "1  SELL-OUT       A    300     바  20170102  2,719,940   1,365   0.0\n",
       "2  SELL-OUT       A    300     바  20170103  2,885,360   1,449   0.0\n",
       "3  SELL-OUT       A    300     바  20170104  2,962,900   1,489   0.0\n",
       "4  SELL-OUT       A    300     바  20170105  2,957,150   1,486   0.0"
      ]
     },
     "execution_count": 84,
     "metadata": {},
     "output_type": "execute_result"
    }
   ],
   "source": [
    "sales_out.head()"
   ]
  },
  {
   "cell_type": "code",
   "execution_count": 85,
   "metadata": {},
   "outputs": [
    {
     "data": {
      "text/html": [
       "<div>\n",
       "<style scoped>\n",
       "    .dataframe tbody tr th:only-of-type {\n",
       "        vertical-align: middle;\n",
       "    }\n",
       "\n",
       "    .dataframe tbody tr th {\n",
       "        vertical-align: top;\n",
       "    }\n",
       "\n",
       "    .dataframe thead th {\n",
       "        text-align: right;\n",
       "    }\n",
       "</style>\n",
       "<table border=\"1\" class=\"dataframe\">\n",
       "  <thead>\n",
       "    <tr style=\"text-align: right;\">\n",
       "      <th></th>\n",
       "      <th>chnl_cd</th>\n",
       "      <th>cust_cd</th>\n",
       "      <th>pd_nm</th>\n",
       "      <th>sales</th>\n",
       "      <th>amt</th>\n",
       "    </tr>\n",
       "  </thead>\n",
       "  <tbody>\n",
       "    <tr>\n",
       "      <th>count</th>\n",
       "      <td>13149</td>\n",
       "      <td>13149</td>\n",
       "      <td>13149</td>\n",
       "      <td>13149</td>\n",
       "      <td>13149</td>\n",
       "    </tr>\n",
       "    <tr>\n",
       "      <th>unique</th>\n",
       "      <td>1</td>\n",
       "      <td>3</td>\n",
       "      <td>6</td>\n",
       "      <td>13117</td>\n",
       "      <td>5357</td>\n",
       "    </tr>\n",
       "    <tr>\n",
       "      <th>top</th>\n",
       "      <td>SELL-OUT</td>\n",
       "      <td>A</td>\n",
       "      <td>바</td>\n",
       "      <td>276,334</td>\n",
       "      <td>204</td>\n",
       "    </tr>\n",
       "    <tr>\n",
       "      <th>freq</th>\n",
       "      <td>13149</td>\n",
       "      <td>4383</td>\n",
       "      <td>4383</td>\n",
       "      <td>2</td>\n",
       "      <td>31</td>\n",
       "    </tr>\n",
       "  </tbody>\n",
       "</table>\n",
       "</div>"
      ],
      "text/plain": [
       "         chnl_cd cust_cd  pd_nm     sales    amt\n",
       "count      13149   13149  13149     13149  13149\n",
       "unique         1       3      6     13117   5357\n",
       "top     SELL-OUT       A      바  276,334    204 \n",
       "freq       13149    4383   4383         2     31"
      ]
     },
     "execution_count": 85,
     "metadata": {},
     "output_type": "execute_result"
    }
   ],
   "source": [
    "sales_out.describe(include=[np.object])"
   ]
  },
  {
   "cell_type": "code",
   "execution_count": 86,
   "metadata": {
    "scrolled": false
   },
   "outputs": [
    {
     "name": "stdout",
     "output_type": "stream",
     "text": [
      "cust_cd: ['A', 'B', 'C']\n",
      "pd_cd: [100, 101, 200, 201, 202, 300]\n",
      "pd_nm: ['가', '나', '다', '라', '마', '바']\n"
     ]
    }
   ],
   "source": [
    "print(f\"cust_cd: {sorted(sales_out['cust_cd'].unique())}\")\n",
    "print(f\"pd_cd: {sorted(sales_out['pd_cd'].unique())}\")\n",
    "print(f\"pd_nm: {sorted(sales_out['pd_nm'].unique())}\")"
   ]
  },
  {
   "cell_type": "code",
   "execution_count": 87,
   "metadata": {
    "scrolled": false
   },
   "outputs": [
    {
     "data": {
      "text/plain": [
       "chnl_cd    0\n",
       "cust_cd    0\n",
       "pd_cd      0\n",
       "pd_nm      0\n",
       "dt         0\n",
       "sales      0\n",
       "amt        0\n",
       "dc         0\n",
       "dtype: int64"
      ]
     },
     "execution_count": 87,
     "metadata": {},
     "output_type": "execute_result"
    }
   ],
   "source": [
    "sales_out.isnull().sum()"
   ]
  },
  {
   "cell_type": "markdown",
   "metadata": {},
   "source": [
    "#### Preprocessing"
   ]
  },
  {
   "cell_type": "markdown",
   "metadata": {},
   "source": [
    "##### Sales in"
   ]
  },
  {
   "cell_type": "code",
   "execution_count": 88,
   "metadata": {},
   "outputs": [],
   "source": [
    "# convert to datetime\n",
    "sales_in['dt'] = pd.to_datetime(sales_in['dt'], format='%Y%m%d')"
   ]
  },
  {
   "cell_type": "code",
   "execution_count": 89,
   "metadata": {},
   "outputs": [],
   "source": [
    "sales_in['sales'] = sales_in['sales'].str.replace(',', '')\n",
    "sales_in['amt'] = sales_in['amt'].str.replace(',', '')\n",
    "sales_in['store_price'] = sales_in['store_price'].str.replace(',', '')\n",
    "sales_in['unit_price'] = sales_in['unit_price'].str.replace(',', '')"
   ]
  },
  {
   "cell_type": "code",
   "execution_count": 90,
   "metadata": {},
   "outputs": [],
   "source": [
    "sales_in['sales'] = sales_in['sales'].fillna(0)\n",
    "sales_in['dc'] = sales_in['dc'].fillna(0)\n",
    "sales_in['unit_price'] = sales_in['unit_price'].fillna(0)"
   ]
  },
  {
   "cell_type": "code",
   "execution_count": 91,
   "metadata": {},
   "outputs": [],
   "source": [
    "sales_in['sales'] = sales_in['sales'].astype(int)\n",
    "sales_in['amt'] = sales_in['amt'].astype(int)\n",
    "sales_in['store_price'] = sales_in['store_price'].astype(int)\n",
    "sales_in['unit_price'] = sales_in['unit_price'].astype(int)"
   ]
  },
  {
   "cell_type": "code",
   "execution_count": 124,
   "metadata": {},
   "outputs": [
    {
     "data": {
      "text/html": [
       "<div>\n",
       "<style scoped>\n",
       "    .dataframe tbody tr th:only-of-type {\n",
       "        vertical-align: middle;\n",
       "    }\n",
       "\n",
       "    .dataframe tbody tr th {\n",
       "        vertical-align: top;\n",
       "    }\n",
       "\n",
       "    .dataframe thead th {\n",
       "        text-align: right;\n",
       "    }\n",
       "</style>\n",
       "<table border=\"1\" class=\"dataframe\">\n",
       "  <thead>\n",
       "    <tr style=\"text-align: right;\">\n",
       "      <th></th>\n",
       "      <th>chnl_cd</th>\n",
       "      <th>cust_cd</th>\n",
       "      <th>pd_cd</th>\n",
       "      <th>pd_nm</th>\n",
       "      <th>dt</th>\n",
       "      <th>sales</th>\n",
       "      <th>amt</th>\n",
       "      <th>dc</th>\n",
       "      <th>unit_price</th>\n",
       "      <th>store_price</th>\n",
       "    </tr>\n",
       "  </thead>\n",
       "  <tbody>\n",
       "    <tr>\n",
       "      <th>0</th>\n",
       "      <td>SELL-IN</td>\n",
       "      <td>A</td>\n",
       "      <td>100</td>\n",
       "      <td>가</td>\n",
       "      <td>2019-01-01</td>\n",
       "      <td>1216620</td>\n",
       "      <td>1620</td>\n",
       "      <td>34.1</td>\n",
       "      <td>751</td>\n",
       "      <td>1140</td>\n",
       "    </tr>\n",
       "    <tr>\n",
       "      <th>1</th>\n",
       "      <td>SELL-IN</td>\n",
       "      <td>A</td>\n",
       "      <td>100</td>\n",
       "      <td>가</td>\n",
       "      <td>2019-01-02</td>\n",
       "      <td>0</td>\n",
       "      <td>0</td>\n",
       "      <td>0.0</td>\n",
       "      <td>0</td>\n",
       "      <td>1140</td>\n",
       "    </tr>\n",
       "    <tr>\n",
       "      <th>2</th>\n",
       "      <td>SELL-IN</td>\n",
       "      <td>A</td>\n",
       "      <td>100</td>\n",
       "      <td>가</td>\n",
       "      <td>2019-01-03</td>\n",
       "      <td>0</td>\n",
       "      <td>0</td>\n",
       "      <td>0.0</td>\n",
       "      <td>0</td>\n",
       "      <td>1140</td>\n",
       "    </tr>\n",
       "    <tr>\n",
       "      <th>3</th>\n",
       "      <td>SELL-IN</td>\n",
       "      <td>A</td>\n",
       "      <td>100</td>\n",
       "      <td>가</td>\n",
       "      <td>2019-01-04</td>\n",
       "      <td>0</td>\n",
       "      <td>0</td>\n",
       "      <td>0.0</td>\n",
       "      <td>0</td>\n",
       "      <td>1140</td>\n",
       "    </tr>\n",
       "    <tr>\n",
       "      <th>4</th>\n",
       "      <td>SELL-IN</td>\n",
       "      <td>A</td>\n",
       "      <td>100</td>\n",
       "      <td>가</td>\n",
       "      <td>2019-01-05</td>\n",
       "      <td>0</td>\n",
       "      <td>0</td>\n",
       "      <td>0.0</td>\n",
       "      <td>0</td>\n",
       "      <td>1140</td>\n",
       "    </tr>\n",
       "  </tbody>\n",
       "</table>\n",
       "</div>"
      ],
      "text/plain": [
       "   chnl_cd cust_cd  pd_cd pd_nm         dt    sales   amt    dc  unit_price  \\\n",
       "0  SELL-IN       A    100     가 2019-01-01  1216620  1620  34.1         751   \n",
       "1  SELL-IN       A    100     가 2019-01-02        0     0   0.0           0   \n",
       "2  SELL-IN       A    100     가 2019-01-03        0     0   0.0           0   \n",
       "3  SELL-IN       A    100     가 2019-01-04        0     0   0.0           0   \n",
       "4  SELL-IN       A    100     가 2019-01-05        0     0   0.0           0   \n",
       "\n",
       "   store_price  \n",
       "0         1140  \n",
       "1         1140  \n",
       "2         1140  \n",
       "3         1140  \n",
       "4         1140  "
      ]
     },
     "execution_count": 124,
     "metadata": {},
     "output_type": "execute_result"
    }
   ],
   "source": [
    "sales_in.head()"
   ]
  },
  {
   "cell_type": "code",
   "execution_count": 92,
   "metadata": {},
   "outputs": [
    {
     "data": {
      "text/html": [
       "<div>\n",
       "<style scoped>\n",
       "    .dataframe tbody tr th:only-of-type {\n",
       "        vertical-align: middle;\n",
       "    }\n",
       "\n",
       "    .dataframe tbody tr th {\n",
       "        vertical-align: top;\n",
       "    }\n",
       "\n",
       "    .dataframe thead th {\n",
       "        text-align: right;\n",
       "    }\n",
       "</style>\n",
       "<table border=\"1\" class=\"dataframe\">\n",
       "  <thead>\n",
       "    <tr style=\"text-align: right;\">\n",
       "      <th></th>\n",
       "      <th>chnl_cd</th>\n",
       "      <th>cust_cd</th>\n",
       "      <th>pd_cd</th>\n",
       "      <th>pd_nm</th>\n",
       "      <th>dt</th>\n",
       "      <th>sales</th>\n",
       "      <th>amt</th>\n",
       "      <th>dc</th>\n",
       "      <th>unit_price</th>\n",
       "      <th>store_price</th>\n",
       "    </tr>\n",
       "  </thead>\n",
       "  <tbody>\n",
       "    <tr>\n",
       "      <th>0</th>\n",
       "      <td>SELL-IN</td>\n",
       "      <td>A</td>\n",
       "      <td>100</td>\n",
       "      <td>가</td>\n",
       "      <td>2019-01-01</td>\n",
       "      <td>1216620</td>\n",
       "      <td>1620</td>\n",
       "      <td>34.1</td>\n",
       "      <td>751</td>\n",
       "      <td>1140</td>\n",
       "    </tr>\n",
       "    <tr>\n",
       "      <th>1</th>\n",
       "      <td>SELL-IN</td>\n",
       "      <td>A</td>\n",
       "      <td>100</td>\n",
       "      <td>가</td>\n",
       "      <td>2019-01-02</td>\n",
       "      <td>0</td>\n",
       "      <td>0</td>\n",
       "      <td>0.0</td>\n",
       "      <td>0</td>\n",
       "      <td>1140</td>\n",
       "    </tr>\n",
       "    <tr>\n",
       "      <th>2</th>\n",
       "      <td>SELL-IN</td>\n",
       "      <td>A</td>\n",
       "      <td>100</td>\n",
       "      <td>가</td>\n",
       "      <td>2019-01-03</td>\n",
       "      <td>0</td>\n",
       "      <td>0</td>\n",
       "      <td>0.0</td>\n",
       "      <td>0</td>\n",
       "      <td>1140</td>\n",
       "    </tr>\n",
       "    <tr>\n",
       "      <th>3</th>\n",
       "      <td>SELL-IN</td>\n",
       "      <td>A</td>\n",
       "      <td>100</td>\n",
       "      <td>가</td>\n",
       "      <td>2019-01-04</td>\n",
       "      <td>0</td>\n",
       "      <td>0</td>\n",
       "      <td>0.0</td>\n",
       "      <td>0</td>\n",
       "      <td>1140</td>\n",
       "    </tr>\n",
       "    <tr>\n",
       "      <th>4</th>\n",
       "      <td>SELL-IN</td>\n",
       "      <td>A</td>\n",
       "      <td>100</td>\n",
       "      <td>가</td>\n",
       "      <td>2019-01-05</td>\n",
       "      <td>0</td>\n",
       "      <td>0</td>\n",
       "      <td>0.0</td>\n",
       "      <td>0</td>\n",
       "      <td>1140</td>\n",
       "    </tr>\n",
       "  </tbody>\n",
       "</table>\n",
       "</div>"
      ],
      "text/plain": [
       "   chnl_cd cust_cd  pd_cd pd_nm         dt    sales   amt    dc  unit_price  \\\n",
       "0  SELL-IN       A    100     가 2019-01-01  1216620  1620  34.1         751   \n",
       "1  SELL-IN       A    100     가 2019-01-02        0     0   0.0           0   \n",
       "2  SELL-IN       A    100     가 2019-01-03        0     0   0.0           0   \n",
       "3  SELL-IN       A    100     가 2019-01-04        0     0   0.0           0   \n",
       "4  SELL-IN       A    100     가 2019-01-05        0     0   0.0           0   \n",
       "\n",
       "   store_price  \n",
       "0         1140  \n",
       "1         1140  \n",
       "2         1140  \n",
       "3         1140  \n",
       "4         1140  "
      ]
     },
     "execution_count": 92,
     "metadata": {},
     "output_type": "execute_result"
    }
   ],
   "source": [
    "sales_in.head()"
   ]
  },
  {
   "cell_type": "markdown",
   "metadata": {},
   "source": [
    "#### Plot"
   ]
  },
  {
   "cell_type": "code",
   "execution_count": 93,
   "metadata": {
    "collapsed": true
   },
   "outputs": [
    {
     "data": {
      "text/plain": [
       "<AxesSubplot:xlabel='dt', ylabel='amt'>"
      ]
     },
     "execution_count": 93,
     "metadata": {},
     "output_type": "execute_result"
    },
    {
     "data": {
      "image/png": "[encoded data removed]",
      "text/plain": [
       "<Figure size 864x432 with 1 Axes>"
      ]
     },
     "metadata": {
      "needs_background": "light"
     },
     "output_type": "display_data"
    }
   ],
   "source": [
    "sales_in.plot.scatter('dt', 'amt', s=1, figsize=(12, 6))"
   ]
  },
  {
   "cell_type": "code",
   "execution_count": 110,
   "metadata": {},
   "outputs": [
    {
     "name": "stdout",
     "output_type": "stream",
     "text": [
      "length of sales in: 4386\n"
     ]
    }
   ],
   "source": [
    "print(f'length of sales in: {len(sales_in)}')"
   ]
  },
  {
   "cell_type": "code",
   "execution_count": 115,
   "metadata": {},
   "outputs": [],
   "source": [
    "# Filter minus values\n",
    "sales_in = sales_in[sales_in['sales'] >= 0]\n",
    "sales_in = sales_in[sales_in['amt'] >= 0]\n",
    "sales_in = sales_in[sales_in['dc'] >= 0]\n",
    "sales_in = sales_in[sales_in['unit_price'] >= 0]"
   ]
  },
  {
   "cell_type": "code",
   "execution_count": 117,
   "metadata": {},
   "outputs": [
    {
     "name": "stdout",
     "output_type": "stream",
     "text": [
      "length of sales in: 4291\n"
     ]
    }
   ],
   "source": [
    "print(f'length of sales in: {len(sales_in)}')"
   ]
  },
  {
   "cell_type": "markdown",
   "metadata": {},
   "source": [
    "##### Sales out"
   ]
  },
  {
   "cell_type": "code",
   "execution_count": 99,
   "metadata": {},
   "outputs": [],
   "source": [
    "sales_out['dt'] = pd.to_datetime(sales_out['dt'], format='%Y%m%d')"
   ]
  },
  {
   "cell_type": "code",
   "execution_count": 102,
   "metadata": {},
   "outputs": [],
   "source": [
    "sales_out['sales'] = sales_out['sales'].str.replace(',', '')\n",
    "sales_out['amt'] = sales_out['amt'].str.replace(',', '')"
   ]
  },
  {
   "cell_type": "code",
   "execution_count": 103,
   "metadata": {},
   "outputs": [],
   "source": [
    "sales_out['sales'] = sales_out['sales'].fillna(0)\n",
    "sales_out['dc'] = sales_out['dc'].fillna(0)"
   ]
  },
  {
   "cell_type": "code",
   "execution_count": 104,
   "metadata": {},
   "outputs": [],
   "source": [
    "sales_out['sales'] = sales_out['sales'].astype(int)\n",
    "sales_out['amt'] = sales_out['amt'].astype(int)"
   ]
  },
  {
   "cell_type": "code",
   "execution_count": 107,
   "metadata": {
    "collapsed": true
   },
   "outputs": [
    {
     "data": {
      "text/plain": [
       "<AxesSubplot:xlabel='dt', ylabel='sales'>"
      ]
     },
     "execution_count": 107,
     "metadata": {},
     "output_type": "execute_result"
    },
    {
     "data": {
      "image/png": "[encoded data removed]",
      "text/plain": [
       "<Figure size 720x432 with 1 Axes>"
      ]
     },
     "metadata": {
      "needs_background": "light"
     },
     "output_type": "display_data"
    }
   ],
   "source": [
    "sales_out.plot.scatter('dt', 'sales', s=1, figsize=(10, 6))"
   ]
  },
  {
   "cell_type": "code",
   "execution_count": 116,
   "metadata": {},
   "outputs": [],
   "source": [
    "# Filter minus values\n",
    "sales_out = sales_out[sales_out['sales'] >= 0]\n",
    "sales_out = sales_out[sales_out['amt'] >= 0]"
   ]
  },
  {
   "cell_type": "code",
   "execution_count": 137,
   "metadata": {},
   "outputs": [],
   "source": [
    "from collections import defaultdict"
   ]
  },
  {
   "cell_type": "code",
   "execution_count": 143,
   "metadata": {},
   "outputs": [],
   "source": [
    "test = defaultdict(dict)"
   ]
  },
  {
   "cell_type": "code",
   "execution_count": 144,
   "metadata": {},
   "outputs": [],
   "source": [
    "ex = [1,2,3,4,5]\n",
    "for num in ex:\n",
    "    test['abc'].update({'ab': num})"
   ]
  },
  {
   "cell_type": "code",
   "execution_count": 145,
   "metadata": {},
   "outputs": [
    {
     "data": {
      "text/plain": [
       "defaultdict(dict, {'abc': {'ab': 5}})"
      ]
     },
     "execution_count": 145,
     "metadata": {},
     "output_type": "execute_result"
    }
   ],
   "source": [
    "test"
   ]
  },
  {
   "cell_type": "code",
   "execution_count": null,
   "metadata": {},
   "outputs": [],
   "source": []
  }
 ],
 "metadata": {
  "kernelspec": {
   "display_name": "Python 3",
   "language": "python",
   "name": "python3"
  },
  "language_info": {
   "codemirror_mode": {
    "name": "ipython",
    "version": 3
   },
   "file_extension": ".py",
   "mimetype": "text/x-python",
   "name": "python",
   "nbconvert_exporter": "python",
   "pygments_lexer": "ipython3",
   "version": "3.7.9"
  }
 },
 "nbformat": 4,
 "nbformat_minor": 4
}
